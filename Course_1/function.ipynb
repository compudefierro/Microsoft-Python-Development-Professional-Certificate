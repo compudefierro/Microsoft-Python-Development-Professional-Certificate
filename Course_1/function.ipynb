{
 "cells": [
  {
   "cell_type": "code",
   "execution_count": null,
   "id": "85716561",
   "metadata": {
    "vscode": {
     "languageId": "markdown"
    }
   },
   "outputs": [],
   "source": [
    "## Coursera - Python Programming Fundamentals\n",
    "\n",
    "function basis."
   ]
  },
  {
   "cell_type": "code",
   "execution_count": 13,
   "id": "6689ecc1",
   "metadata": {},
   "outputs": [
    {
     "name": "stdout",
     "output_type": "stream",
     "text": [
      "no data input\n"
     ]
    }
   ],
   "source": [
    "def dummy_function(parameter):\n",
    "    \"\"\"\n",
    "    This function does nothing and is used as a placeholder.\n",
    "    \n",
    "    :param parameter: Any input parameter, which is ignored.\n",
    "    \"\"\"\n",
    "    if not parameter == \"\":\n",
    "        return parameter\n",
    "    else:\n",
    "        return \"no data input\"\n",
    "# This script defines a dummy function that serves as a placeholder.\n",
    "\n",
    "data = dummy_function(\"\")\n",
    "\n",
    "print(data)"
   ]
  }
 ],
 "metadata": {
  "kernelspec": {
   "display_name": "Course_1-THs0EVTa",
   "language": "python",
   "name": "python3"
  },
  "language_info": {
   "codemirror_mode": {
    "name": "ipython",
    "version": 3
   },
   "file_extension": ".py",
   "mimetype": "text/x-python",
   "name": "python",
   "nbconvert_exporter": "python",
   "pygments_lexer": "ipython3",
   "version": "3.13.3"
  }
 },
 "nbformat": 4,
 "nbformat_minor": 5
}
