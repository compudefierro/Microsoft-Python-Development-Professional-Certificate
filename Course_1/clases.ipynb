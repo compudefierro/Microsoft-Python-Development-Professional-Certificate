{
 "cells": [
  {
   "cell_type": "markdown",
   "id": "0c79e392",
   "metadata": {},
   "source": [
    "## Class"
   ]
  },
  {
   "cell_type": "code",
   "execution_count": 1,
   "id": "f28749c7",
   "metadata": {},
   "outputs": [
    {
     "name": "stdout",
     "output_type": "stream",
     "text": [
      "Jorge\n",
      "17\n",
      "Humano\n",
      "Hola, mi nombre es Jorge y tengo 44 años.\n",
      "Hola, mi nombre es Ana y tengo 17 años.\n",
      "True\n",
      "False\n"
     ]
    }
   ],
   "source": [
    "class Persona:\n",
    "    # Atributo de clase (compartido por todas las instancias)\n",
    "    especie = \"Humano\"\n",
    "\n",
    "    # Método constructor (se ejecuta al crear un objeto)\n",
    "    def __init__(self, nombre, edad):\n",
    "        # Atributos de instancia (propios de cada objeto)\n",
    "        self.nombre = nombre\n",
    "        self.edad = edad\n",
    "\n",
    "    # Método de instancia\n",
    "    def saludar(self):\n",
    "        return f\"Hola, mi nombre es {self.nombre} y tengo {self.edad} años.\"\n",
    "\n",
    "    # Otro método de instancia\n",
    "    def es_mayor_de_edad(self):\n",
    "        return self.edad >= 18\n",
    "\n",
    "# Crear objetos (instancias)\n",
    "persona1 = Persona(\"Jorge\", 44)\n",
    "persona2 = Persona(\"Ana\", 17)\n",
    "\n",
    "# Usar atributos\n",
    "print(persona1.nombre)  # Jorge\n",
    "print(persona2.edad)    # 17\n",
    "print(persona1.especie) # Humano\n",
    "\n",
    "# Usar métodos\n",
    "print(persona1.saludar())  # Hola, mi nombre es Jorge y tengo 44 años.\n",
    "print(persona2.saludar())  # Hola, mi nombre es Ana y tengo 17 años.\n",
    "print(persona1.es_mayor_de_edad())  # True\n",
    "print(persona2.es_mayor_de_edad())  # False\n"
   ]
  },
  {
   "cell_type": "code",
   "execution_count": 5,
   "id": "bf68028b",
   "metadata": {},
   "outputs": [
    {
     "name": "stdout",
     "output_type": "stream",
     "text": [
      "3.141592653589793\n",
      "3.141592653589793115997963468544185161590576171875000000000000000000000000000000000000000000000000000000000000000000000000\n"
     ]
    }
   ],
   "source": [
    "import math\n",
    "print(math.pi)  # 3.141592653589793\n",
    "\n",
    "# Mostrar el valor de pi con mayor precisión (por ejemplo, 20 decimales)\n",
    "print(f\"{math.pi:.120f}\")"
   ]
  },
  {
   "cell_type": "code",
   "execution_count": 6,
   "id": "52b2720b",
   "metadata": {},
   "outputs": [
    {
     "ename": "ModuleNotFoundError",
     "evalue": "No module named 'mpmath'",
     "output_type": "error",
     "traceback": [
      "\u001b[31m---------------------------------------------------------------------------\u001b[39m",
      "\u001b[31mModuleNotFoundError\u001b[39m                       Traceback (most recent call last)",
      "\u001b[36mCell\u001b[39m\u001b[36m \u001b[39m\u001b[32mIn[6]\u001b[39m\u001b[32m, line 2\u001b[39m\n\u001b[32m      1\u001b[39m \u001b[38;5;66;03m# Mostrar pi con mayor precisión usando mpmath\u001b[39;00m\n\u001b[32m----> \u001b[39m\u001b[32m2\u001b[39m \u001b[38;5;28;01mfrom\u001b[39;00m\u001b[38;5;250m \u001b[39m\u001b[34;01mmpmath\u001b[39;00m\u001b[38;5;250m \u001b[39m\u001b[38;5;28;01mimport\u001b[39;00m mp\n\u001b[32m      3\u001b[39m mp.dps = \u001b[32m100\u001b[39m  \u001b[38;5;66;03m# establecer 100 dígitos decimales de precisión\u001b[39;00m\n\u001b[32m      4\u001b[39m \u001b[38;5;28mprint\u001b[39m(mp.pi)\n",
      "\u001b[31mModuleNotFoundError\u001b[39m: No module named 'mpmath'"
     ]
    }
   ],
   "source": [
    "# Mostrar pi con mayor precisión usando mpmath\n",
    "from mpmath import mp\n",
    "mp.dps = 100  # establecer 100 dígitos decimales de precisión\n",
    "print(mp.pi)"
   ]
  }
 ],
 "metadata": {
  "kernelspec": {
   "display_name": "Course_1-THs0EVTa",
   "language": "python",
   "name": "python3"
  },
  "language_info": {
   "codemirror_mode": {
    "name": "ipython",
    "version": 3
   },
   "file_extension": ".py",
   "mimetype": "text/x-python",
   "name": "python",
   "nbconvert_exporter": "python",
   "pygments_lexer": "ipython3",
   "version": "3.13.3"
  }
 },
 "nbformat": 4,
 "nbformat_minor": 5
}
