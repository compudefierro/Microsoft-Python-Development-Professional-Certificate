{
 "cells": [
  {
   "cell_type": "markdown",
   "id": "0c79e392",
   "metadata": {},
   "source": [
    "## Class"
   ]
  },
  {
   "cell_type": "code",
   "execution_count": 19,
   "id": "f28749c7",
   "metadata": {},
   "outputs": [
    {
     "name": "stdout",
     "output_type": "stream",
     "text": [
      "Jorge\n",
      "17\n",
      "Humano\n",
      "Hola, mi nombre es Jorge y tengo 44 años.\n",
      "Hola, mi nombre es Ana y tengo 17 años.\n",
      "True\n",
      "False\n"
     ]
    }
   ],
   "source": [
    "class Persona:\n",
    "    # Atributo de clase (compartido por todas las instancias)\n",
    "    especie = \"Humano\"\n",
    "\n",
    "    # Método constructor (se ejecuta al crear un objeto)\n",
    "    def __init__(self, nombre, edad):\n",
    "        # Atributos de instancia (propios de cada objeto)\n",
    "        self.nombre = nombre\n",
    "        self.edad = edad\n",
    "\n",
    "    # Método de instancia\n",
    "    def saludar(self):\n",
    "        return f\"Hola, mi nombre es {self.nombre} y tengo {self.edad} años.\"\n",
    "\n",
    "    # Otro método de instancia\n",
    "    def es_mayor_de_edad(self):\n",
    "        return self.edad >= 18\n",
    "\n",
    "# Crear objetos (instancias)\n",
    "persona1 = Persona(\"Jorge\", 44)\n",
    "persona2 = Persona(\"Ana\", 17)\n",
    "\n",
    "# Usar atributos\n",
    "print(persona1.nombre)  # Jorge\n",
    "print(persona2.edad)    # 17\n",
    "print(persona1.especie) # Humano\n",
    "\n",
    "# Usar métodos\n",
    "print(persona1.saludar())  # Hola, mi nombre es Jorge y tengo 44 años.\n",
    "print(persona2.saludar())  # Hola, mi nombre es Ana y tengo 17 años.\n",
    "print(persona1.es_mayor_de_edad())  # True\n",
    "print(persona2.es_mayor_de_edad())  # False\n"
   ]
  },
  {
   "cell_type": "code",
   "execution_count": 20,
   "id": "bf68028b",
   "metadata": {},
   "outputs": [
    {
     "name": "stdout",
     "output_type": "stream",
     "text": [
      "3.141592653589793\n",
      "3.141592653589793115997963468544185161590576171875000000000000000000000000000000000000000000000000000000000000000000000000\n"
     ]
    }
   ],
   "source": [
    "import math\n",
    "print(math.pi)  # 3.141592653589793\n",
    "\n",
    "# Mostrar el valor de pi con mayor precisión (por ejemplo, 20 decimales)\n",
    "print(f\"{math.pi:.120f}\")"
   ]
  },
  {
   "cell_type": "code",
   "execution_count": 21,
   "id": "52b2720b",
   "metadata": {},
   "outputs": [],
   "source": [
    "# # Mostrar pi con mayor precisión usando mpmath\n",
    "# from mpmath import mp\n",
    "# mp.dps = 100  # establecer 100 dígitos decimales de precisión\n",
    "# print(mp.pi)"
   ]
  },
  {
   "cell_type": "markdown",
   "id": "337e4eb2",
   "metadata": {},
   "source": [
    "#### Method of searching\n",
    "##### Linear algorithms && Binary algorithms\n",
    "\n",
    "##### Principles of searching lists:\n",
    "* List: are ordered collection of items.\n",
    "* Searching: is the process of locating a specific item.\n",
    "* Algorithms: are step-by-step procedures for solving problems.\n",
    "* Efficiency: is how quickly an algorithm can complete a task.\n",
    "* Linear search: is a straightfoward search algorithm that is able to check each item in a list, sequentially."
   ]
  },
  {
   "cell_type": "markdown",
   "id": "2f9db859",
   "metadata": {},
   "source": [
    "#### Linear Search"
   ]
  },
  {
   "cell_type": "code",
   "execution_count": 27,
   "id": "4ea5c8ba",
   "metadata": {},
   "outputs": [
    {
     "name": "stdout",
     "output_type": "stream",
     "text": [
      "2\n"
     ]
    }
   ],
   "source": [
    "def linear_search(data, target, option=2):\n",
    "    \n",
    "    if option == 1: \n",
    "    \n",
    "        for i in range(len(data)):\n",
    "            if data[i] == target:\n",
    "                return i # Found at index i\n",
    "        return -1  # Not found\n",
    "    elif option == 2:\n",
    "        for i in range(len(data)): # Loop through the list\n",
    "            try:\n",
    "                if data[i] == target: # Check if the current element matches the target\n",
    "                    return i  # If found, return the index i\n",
    "                else:\n",
    "                    continue # If not found, continue to the next iteration\n",
    "                    return -1 # If the Loop completes without finding the target, return -1\n",
    "            except Exception as e: # If an error occurs during the Loop\n",
    "                return \"No Data Found. Please try again\" # Return the error message\n",
    "\n",
    "data = [4, 2, 3, 5, 1]\n",
    "target = 3\n",
    "result = linear_search(data, target, 2)\n",
    "print(result)  # Output: 2 (index of target in data)"
   ]
  },
  {
   "cell_type": "markdown",
   "id": "4343dc98",
   "metadata": {},
   "source": [
    "#### Binary Search\n",
    "##### Required: data sorted."
   ]
  },
  {
   "cell_type": "code",
   "execution_count": 49,
   "id": "c8e73a6d",
   "metadata": {},
   "outputs": [
    {
     "name": "stdout",
     "output_type": "stream",
     "text": [
      "(13, 3)\n"
     ]
    }
   ],
   "source": [
    "def binary_search(data, target):\n",
    "    loops = 0\n",
    "    low = 0\n",
    "    high = len(data) - 1\n",
    "    while low <= high:\n",
    "        mid = (low + high) // 2\n",
    "        loops += 1\n",
    "        if data[mid] == target:\n",
    "            return mid, loops\n",
    "        elif data[mid] < target:\n",
    "            low = mid + 1\n",
    "        else:\n",
    "            high = mid - 1\n",
    "    return -1, loops\n",
    "\n",
    "data = [1, 2, 33, 23, 32, 3, 4, 53, 6, 7, 8, 9,10,11,12]\n",
    "data.sort()  # Binary search requires a sorted list\n",
    "target = 33\n",
    "result = binary_search(data, target)\n",
    "print(result)  # Output: 2 (index of target in data)"
   ]
  }
 ],
 "metadata": {
  "kernelspec": {
   "display_name": "Course_1-THs0EVTa",
   "language": "python",
   "name": "python3"
  },
  "language_info": {
   "codemirror_mode": {
    "name": "ipython",
    "version": 3
   },
   "file_extension": ".py",
   "mimetype": "text/x-python",
   "name": "python",
   "nbconvert_exporter": "python",
   "pygments_lexer": "ipython3",
   "version": "3.13.3"
  }
 },
 "nbformat": 4,
 "nbformat_minor": 5
}
