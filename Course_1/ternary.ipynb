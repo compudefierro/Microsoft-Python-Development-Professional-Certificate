{
 "cells": [
  {
   "cell_type": "code",
   "execution_count": 5,
   "id": "f31dfdce",
   "metadata": {},
   "outputs": [
    {
     "name": "stdout",
     "output_type": "stream",
     "text": [
      "247 25\n",
      "101 25\n"
     ]
    }
   ],
   "source": [
    "# ternary.py\n",
    "order_total = 247 # GBP\n",
    "# classic if/else form\n",
    "if order_total > 100:\n",
    "    discount = 25 # GBP\n",
    "else:\n",
    "    discount = 0 # GBP\n",
    "print(order_total, discount)\n",
    "\n",
    "# ternary operator\n",
    "order_total = 101\n",
    "discount = 25 if order_total > 100 else 0\n",
    "print(order_total, discount)"
   ]
  }
 ],
 "metadata": {
  "kernelspec": {
   "display_name": "Course_1-THs0EVTa",
   "language": "python",
   "name": "python3"
  },
  "language_info": {
   "codemirror_mode": {
    "name": "ipython",
    "version": 3
   },
   "file_extension": ".py",
   "mimetype": "text/x-python",
   "name": "python",
   "nbconvert_exporter": "python",
   "pygments_lexer": "ipython3",
   "version": "3.13.3"
  }
 },
 "nbformat": 4,
 "nbformat_minor": 5
}
