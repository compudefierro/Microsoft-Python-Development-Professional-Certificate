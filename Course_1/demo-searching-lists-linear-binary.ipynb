{
 "cells": [
  {
   "cell_type": "markdown",
   "id": "0c79e392",
   "metadata": {},
   "source": [
    "## Class"
   ]
  },
  {
   "cell_type": "code",
   "execution_count": 19,
   "id": "f28749c7",
   "metadata": {},
   "outputs": [
    {
     "name": "stdout",
     "output_type": "stream",
     "text": [
      "Jorge\n",
      "17\n",
      "Humano\n",
      "Hola, mi nombre es Jorge y tengo 44 años.\n",
      "Hola, mi nombre es Ana y tengo 17 años.\n",
      "True\n",
      "False\n"
     ]
    }
   ],
   "source": [
    "class Persona:\n",
    "    # Atributo de clase (compartido por todas las instancias)\n",
    "    especie = \"Humano\"\n",
    "\n",
    "    # Método constructor (se ejecuta al crear un objeto)\n",
    "    def __init__(self, nombre, edad):\n",
    "        # Atributos de instancia (propios de cada objeto)\n",
    "        self.nombre = nombre\n",
    "        self.edad = edad\n",
    "\n",
    "    # Método de instancia\n",
    "    def saludar(self):\n",
    "        return f\"Hola, mi nombre es {self.nombre} y tengo {self.edad} años.\"\n",
    "\n",
    "    # Otro método de instancia\n",
    "    def es_mayor_de_edad(self):\n",
    "        return self.edad >= 18\n",
    "\n",
    "# Crear objetos (instancias)\n",
    "persona1 = Persona(\"Jorge\", 44)\n",
    "persona2 = Persona(\"Ana\", 17)\n",
    "\n",
    "# Usar atributos\n",
    "print(persona1.nombre)  # Jorge\n",
    "print(persona2.edad)    # 17\n",
    "print(persona1.especie) # Humano\n",
    "\n",
    "# Usar métodos\n",
    "print(persona1.saludar())  # Hola, mi nombre es Jorge y tengo 44 años.\n",
    "print(persona2.saludar())  # Hola, mi nombre es Ana y tengo 17 años.\n",
    "print(persona1.es_mayor_de_edad())  # True\n",
    "print(persona2.es_mayor_de_edad())  # False\n"
   ]
  },
  {
   "cell_type": "code",
   "execution_count": 20,
   "id": "bf68028b",
   "metadata": {},
   "outputs": [
    {
     "name": "stdout",
     "output_type": "stream",
     "text": [
      "3.141592653589793\n",
      "3.141592653589793115997963468544185161590576171875000000000000000000000000000000000000000000000000000000000000000000000000\n"
     ]
    }
   ],
   "source": [
    "import math\n",
    "print(math.pi)  # 3.141592653589793\n",
    "\n",
    "# Mostrar el valor de pi con mayor precisión (por ejemplo, 20 decimales)\n",
    "print(f\"{math.pi:.120f}\")"
   ]
  },
  {
   "cell_type": "code",
   "execution_count": 21,
   "id": "52b2720b",
   "metadata": {},
   "outputs": [],
   "source": [
    "# # Mostrar pi con mayor precisión usando mpmath\n",
    "# from mpmath import mp\n",
    "# mp.dps = 100  # establecer 100 dígitos decimales de precisión\n",
    "# print(mp.pi)"
   ]
  },
  {
   "cell_type": "markdown",
   "id": "337e4eb2",
   "metadata": {},
   "source": [
    "#### Method of searching\n",
    "##### Linear algorithms && Binary algorithms\n",
    "\n",
    "##### Principles of searching lists:\n",
    "* List: are ordered collection of items.\n",
    "* Searching: is the process of locating a specific item.\n",
    "* Algorithms: are step-by-step procedures for solving problems.\n",
    "* Efficiency: is how quickly an algorithm can complete a task.\n",
    "* Linear search: is a straightfoward search algorithm that is able to check each item in a list, sequentially."
   ]
  },
  {
   "cell_type": "markdown",
   "id": "2f9db859",
   "metadata": {},
   "source": [
    "#### Linear Search"
   ]
  },
  {
   "cell_type": "code",
   "execution_count": 27,
   "id": "4ea5c8ba",
   "metadata": {},
   "outputs": [
    {
     "name": "stdout",
     "output_type": "stream",
     "text": [
      "2\n"
     ]
    }
   ],
   "source": [
    "def linear_search(data, target, option=2):\n",
    "    \n",
    "    if option == 1: \n",
    "    \n",
    "        for i in range(len(data)):\n",
    "            if data[i] == target:\n",
    "                return i # Found at index i\n",
    "        return -1  # Not found\n",
    "    elif option == 2:\n",
    "        for i in range(len(data)): # Loop through the list\n",
    "            try:\n",
    "                if data[i] == target: # Check if the current element matches the target\n",
    "                    return i  # If found, return the index i\n",
    "                else:\n",
    "                    continue # If not found, continue to the next iteration\n",
    "                    return -1 # If the Loop completes without finding the target, return -1\n",
    "            except Exception as e: # If an error occurs during the Loop\n",
    "                return \"No Data Found. Please try again\" # Return the error message\n",
    "\n",
    "data = [4, 2, 3, 5, 1]\n",
    "target = 3\n",
    "result = linear_search(data, target, 2)\n",
    "print(result)  # Output: 2 (index of target in data)"
   ]
  },
  {
   "cell_type": "markdown",
   "id": "4343dc98",
   "metadata": {},
   "source": [
    "#### Binary Search\n",
    "##### Required: data sorted."
   ]
  },
  {
   "cell_type": "code",
   "execution_count": 49,
   "id": "c8e73a6d",
   "metadata": {},
   "outputs": [
    {
     "name": "stdout",
     "output_type": "stream",
     "text": [
      "(13, 3)\n"
     ]
    }
   ],
   "source": [
    "def binary_search(data, target):\n",
    "    loops = 0\n",
    "    low = 0\n",
    "    high = len(data) - 1\n",
    "    while low <= high:\n",
    "        mid = (low + high) // 2\n",
    "        loops += 1\n",
    "        if data[mid] == target:\n",
    "            return mid, loops\n",
    "        elif data[mid] < target:\n",
    "            low = mid + 1\n",
    "        else:\n",
    "            high = mid - 1\n",
    "    return -1, loops\n",
    "\n",
    "data = [1, 2, 33, 23, 32, 3, 4, 53, 6, 7, 8, 9,10,11,12]\n",
    "data.sort()  # Binary search requires a sorted list\n",
    "target = 33\n",
    "result = binary_search(data, target)\n",
    "print(result)  # Output: 2 (index of target in data)"
   ]
  },
  {
   "cell_type": "markdown",
   "id": "7c78dc13",
   "metadata": {},
   "source": [
    "#### In Operator"
   ]
  },
  {
   "cell_type": "code",
   "execution_count": 50,
   "id": "0e7c7e55",
   "metadata": {},
   "outputs": [
    {
     "name": "stdout",
     "output_type": "stream",
     "text": [
      "banana is available.\n"
     ]
    }
   ],
   "source": [
    "ingredients = ['banana', 'apple', 'orange']\n",
    "fruit = 'banana'\n",
    "\n",
    "if fruit in ingredients:\n",
    "    print(f\"{fruit} is available.\")\n",
    "else:\n",
    "    print(f\"{fruit} is not available.\")\n"
   ]
  },
  {
   "cell_type": "markdown",
   "id": "459feeda",
   "metadata": {},
   "source": [
    "#### List Comprehensions"
   ]
  },
  {
   "cell_type": "code",
   "execution_count": 51,
   "id": "24e96ccb",
   "metadata": {},
   "outputs": [
    {
     "name": "stdout",
     "output_type": "stream",
     "text": [
      "[2, 4, 6, 8, 10]\n"
     ]
    }
   ],
   "source": [
    "# Define a list of numbers\n",
    "numbers = [1, 2, 3, 4, 5, 6, 7, 8, 9, 10]\n",
    "\n",
    "# Create a new list with only even numbers from the original list\n",
    "even_numbers = [num for num in numbers if num % 2 == 0]\n",
    "\n",
    "# Print the new list of even numbers\n",
    "print(even_numbers)"
   ]
  },
  {
   "cell_type": "markdown",
   "id": "bf7c8314",
   "metadata": {},
   "source": [
    "#### Index"
   ]
  },
  {
   "cell_type": "code",
   "execution_count": 52,
   "id": "9d3ab5be",
   "metadata": {},
   "outputs": [
    {
     "name": "stdout",
     "output_type": "stream",
     "text": [
      "The first occurrence of 'blue' is at index: 2\n"
     ]
    }
   ],
   "source": [
    "# Define a list of colors\n",
    "colors = ['red', 'green', 'blue', 'yellow', 'blue', 'purple']\n",
    "\n",
    "# Find the index of the first occurrence of 'blue'\n",
    "first_blue_index = colors.index('blue') if 'blue' in colors else -1\n",
    "\n",
    "# Print the index\n",
    "print(\"The first occurrence of 'blue' is at index:\", first_blue_index)"
   ]
  },
  {
   "cell_type": "markdown",
   "id": "8eda1f1e",
   "metadata": {},
   "source": [
    "#### Bisect"
   ]
  },
  {
   "cell_type": "code",
   "execution_count": null,
   "id": "7af90f22",
   "metadata": {},
   "outputs": [
    {
     "name": "stdout",
     "output_type": "stream",
     "text": [
      "The position to insert 6 is: 3  in list: [1, 3, 5, 6, 7, 9]\n"
     ]
    }
   ],
   "source": [
    "import bisect\n",
    "\n",
    "# Define a sorted list of numbers\n",
    "sorted_numbers = [1, 3, 5, 7, 9]\n",
    "\n",
    "# Use bisect to find the position to insert a new number\n",
    "new_number = 6\n",
    "position = bisect.bisect_left(sorted_numbers, new_number)\n",
    "\n",
    "# Insert the new number into the sorted list while maintaining order\n",
    "bisect.insort(sorted_numbers, new_number)\n",
    "\n",
    "# Print the position\n",
    "print(\"The position to insert\", new_number, \"is:\", position, \" in list:\", sorted_numbers)\n",
    "\n"
   ]
  }
 ],
 "metadata": {
  "kernelspec": {
   "display_name": "Course_1-THs0EVTa",
   "language": "python",
   "name": "python3"
  },
  "language_info": {
   "codemirror_mode": {
    "name": "ipython",
    "version": 3
   },
   "file_extension": ".py",
   "mimetype": "text/x-python",
   "name": "python",
   "nbconvert_exporter": "python",
   "pygments_lexer": "ipython3",
   "version": "3.13.3"
  }
 },
 "nbformat": 4,
 "nbformat_minor": 5
}
